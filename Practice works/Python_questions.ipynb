{
  "nbformat": 4,
  "nbformat_minor": 0,
  "metadata": {
    "colab": {
      "provenance": []
    },
    "kernelspec": {
      "name": "python3",
      "display_name": "Python 3"
    },
    "language_info": {
      "name": "python"
    }
  },
  "cells": [
    {
      "cell_type": "code",
      "source": [
        "# ENTER A LIST OF NUMBERS AND FIND ITS SUM WITHOUT USING ANY FUNCTION:"
      ],
      "metadata": {
        "id": "iu6O1QtTurMF"
      },
      "execution_count": null,
      "outputs": []
    },
    {
      "cell_type": "code",
      "source": [
        "msg = \"1, 2, 3\"\n",
        "df = msg.split(\",\")\n",
        "sum = 0\n",
        "for item in df:\n",
        "  temp = int(item)\n",
        "  sum = sum + temp\n",
        "print(sum)"
      ],
      "metadata": {
        "colab": {
          "base_uri": "https://localhost:8080/"
        },
        "id": "iDSzJskqStlJ",
        "outputId": "c6ae077e-62ad-4493-c2c6-cfc4e3c16cc8"
      },
      "execution_count": null,
      "outputs": [
        {
          "output_type": "stream",
          "name": "stdout",
          "text": [
            "6\n"
          ]
        }
      ]
    },
    {
      "cell_type": "code",
      "source": [
        "def sumlist(lst):\n",
        " sum = 0\n",
        " for item in lst:\n",
        "  sum = sum + item\n",
        " return sum\n",
        "sumlist([1, 2, 3])"
      ],
      "metadata": {
        "colab": {
          "base_uri": "https://localhost:8080/"
        },
        "id": "N3lfCKnwUs16",
        "outputId": "5490474c-0a5e-4901-92be-ca8c58a32a4f"
      },
      "execution_count": null,
      "outputs": [
        {
          "output_type": "execute_result",
          "data": {
            "text/plain": [
              "6"
            ]
          },
          "metadata": {},
          "execution_count": 37
        }
      ]
    },
    {
      "cell_type": "code",
      "source": [
        "# ENTER A LIST OF NUMBERS SEPARATED BY COMMAS AND FIND ITS SUM:"
      ],
      "metadata": {
        "id": "sVJOC125vwzh"
      },
      "execution_count": null,
      "outputs": []
    },
    {
      "cell_type": "code",
      "source": [
        "var = input(\"Enter the numbers: \")\n",
        "msg = \"1, 2, 3\"\n",
        "df = msg.split(\",\")\n",
        "sum = 0\n",
        "for item in df:\n",
        "  sum = sum + var\n",
        "print(\"Sum of your numbers inputted are: {}\". format(sum))"
      ],
      "metadata": {
        "colab": {
          "base_uri": "https://localhost:8080/",
          "height": 246
        },
        "id": "nA07rKxiXB9n",
        "outputId": "8c473ab4-ff56-4d07-aaac-f5c0ccf2b081"
      },
      "execution_count": null,
      "outputs": [
        {
          "name": "stdout",
          "output_type": "stream",
          "text": [
            "Enter the numbers: 2,3\n"
          ]
        },
        {
          "output_type": "error",
          "ename": "TypeError",
          "evalue": "ignored",
          "traceback": [
            "\u001b[0;31m---------------------------------------------------------------------------\u001b[0m",
            "\u001b[0;31mTypeError\u001b[0m                                 Traceback (most recent call last)",
            "\u001b[0;32m<ipython-input-6-4081e33cb9d0>\u001b[0m in \u001b[0;36m<cell line: 5>\u001b[0;34m()\u001b[0m\n\u001b[1;32m      4\u001b[0m \u001b[0msum\u001b[0m \u001b[0;34m=\u001b[0m \u001b[0;36m0\u001b[0m\u001b[0;34m\u001b[0m\u001b[0;34m\u001b[0m\u001b[0m\n\u001b[1;32m      5\u001b[0m \u001b[0;32mfor\u001b[0m \u001b[0mitem\u001b[0m \u001b[0;32min\u001b[0m \u001b[0mdf\u001b[0m\u001b[0;34m:\u001b[0m\u001b[0;34m\u001b[0m\u001b[0;34m\u001b[0m\u001b[0m\n\u001b[0;32m----> 6\u001b[0;31m   \u001b[0msum\u001b[0m \u001b[0;34m=\u001b[0m \u001b[0msum\u001b[0m \u001b[0;34m+\u001b[0m \u001b[0mvar\u001b[0m\u001b[0;34m\u001b[0m\u001b[0;34m\u001b[0m\u001b[0m\n\u001b[0m\u001b[1;32m      7\u001b[0m \u001b[0mprint\u001b[0m\u001b[0;34m(\u001b[0m\u001b[0;34m\"Sum of your numbers inputted are: {}\"\u001b[0m\u001b[0;34m.\u001b[0m \u001b[0mformat\u001b[0m\u001b[0;34m(\u001b[0m\u001b[0msum\u001b[0m\u001b[0;34m)\u001b[0m\u001b[0;34m)\u001b[0m\u001b[0;34m\u001b[0m\u001b[0;34m\u001b[0m\u001b[0m\n",
            "\u001b[0;31mTypeError\u001b[0m: unsupported operand type(s) for +: 'int' and 'str'"
          ]
        }
      ]
    },
    {
      "cell_type": "code",
      "source": [
        "def sumlistfn(lst):\n",
        "  sum = 0\n",
        "  # logic to sum the numbers in the list\n",
        "  for item in lst:\n",
        "    sum += int(item)\n",
        "  return sum\n",
        "userInput = input(\"Enter a list of numbers separated via commas: \")\n",
        "# 2, 3, 4, 5, 6, 7, 10, 23\n",
        "array = userInput.strip().split(',')\n",
        "# [\"2\", \"3\", \"4\", \"5\", \"6\", \"7\", \"10\", \"23\"]\n",
        "sum = sumlistfn(array)\n",
        "print(\"Sum:\",sum)"
      ],
      "metadata": {
        "colab": {
          "base_uri": "https://localhost:8080/"
        },
        "id": "fLnzIN7Orrqq",
        "outputId": "84f521ae-aee9-4326-d15e-294c2fd83757"
      },
      "execution_count": null,
      "outputs": [
        {
          "output_type": "stream",
          "name": "stdout",
          "text": [
            "Enter a list of numbers separated via commas: 2,3\n",
            "Sum: 5\n"
          ]
        }
      ]
    },
    {
      "cell_type": "code",
      "source": [
        "# COUNT THE NUMBER OF ODD AND EVEN NUMBERS IN THE LIST AND PRINT THE ODD NUMBERS COUNT AND EVEN NUMBERS COUNT ALONG WITH THE NUMBERS."
      ],
      "metadata": {
        "id": "C6kzbYobuwZR"
      },
      "execution_count": null,
      "outputs": []
    },
    {
      "cell_type": "code",
      "source": [
        "ls = [2, 3, 4, 5, 6]\n",
        "def odd_even(ls):\n",
        "  odd = []\n",
        "  even = []\n",
        "  for i in ls:\n",
        "    if int(i) % 2 == 0:\n",
        "      even.append(1)\n",
        "    else:\n",
        "      odd.appned(1)\n",
        "  return even, odd\n",
        "\n",
        "  numbers = input(\"Enter the numbers:\").split(\",\")\n",
        "  even.odd = odd_even(numbers)\n",
        "  print(\"Count of the even number is:\", len(even))\n",
        "  print(\"List of even numbers:\", even)\n",
        "  print(\"Count of the odd number is:\", len(odd))\n",
        "  print(\"List of odd numbers:\", odd)"
      ],
      "metadata": {
        "id": "PWe68JFZwiLA"
      },
      "execution_count": null,
      "outputs": []
    },
    {
      "cell_type": "code",
      "source": [
        "# Write a function in python that accepts your details and save it into file with your name\n",
        "\n",
        "file = open(\"Siddhartha.txt\",\"w+\")\n",
        "file.write(\" Name: Siddhartha Sinha\\n Register No: 23122133\\n Class:1MScDSB\\n Favourite Person: Mew\")"
      ],
      "metadata": {
        "colab": {
          "base_uri": "https://localhost:8080/"
        },
        "id": "MEUh46yJgXKc",
        "outputId": "5eed5f07-ec5d-45b3-cbaf-b391ef3c6798"
      },
      "execution_count": null,
      "outputs": [
        {
          "output_type": "execute_result",
          "data": {
            "text/plain": [
              "84"
            ]
          },
          "metadata": {},
          "execution_count": 2
        }
      ]
    },
    {
      "cell_type": "code",
      "source": [
        "file.close()"
      ],
      "metadata": {
        "id": "zHEk0w0mhZuI"
      },
      "execution_count": null,
      "outputs": []
    },
    {
      "cell_type": "code",
      "source": [
        "def saveDetails(Name, Email, Phone_No):\n",
        "  filename = Name + \".txt\"\n",
        "  with open(\"filename.txt\",\"w+\") as file:\n",
        "    file.write(\"Name\\t:\\t\" + Name)\n",
        "    file.write(\"\\nEmail\\t:\\t\" + Email)\n",
        "    file.write(\"\\nPhone No\\t:\\t\" + Phone_No)\n",
        "user_name = input(\"Enter your Name: \")\n",
        "user_email = input(\"Enter your Email: \")\n",
        "user_phone_no = input(\"Enter your Phone no: \")\n",
        "saveDetails(user_name, user_email, user_phone_no)"
      ],
      "metadata": {
        "id": "F3Pxhy6XiBve",
        "colab": {
          "base_uri": "https://localhost:8080/"
        },
        "outputId": "1da8922c-1521-475c-c4e6-6e483829ed33"
      },
      "execution_count": null,
      "outputs": [
        {
          "name": "stdout",
          "output_type": "stream",
          "text": [
            "Enter your Name: Siddhartha Sinha\n",
            "Enter your Email: siddharthasinha19@gmail.com\n",
            "Enter your Phone no: 8582873442\n"
          ]
        }
      ]
    },
    {
      "cell_type": "code",
      "source": [
        "# Write a program that will take two operands and an operator and performs the calculation and gives the result. Also save the claculations that your program performs in a file.\n",
        "\n",
        "def saveDetails(Operation1, Operation2):\n",
        "  filename = Operation + \".txt\"\n",
        "  with open(\"operation.txt\",\"w+\") as file:\n",
        "    file.write(\"Operation1\\t:\\t\" + Operation1)\n",
        "    file.write(\"Operation2\\t:\\t\" + Operation2)\n",
        "user_operation1 = input(\"Enter your 1st Operand: \")\n",
        "user_operation2 = input(\"Enter your 2nd Operand: \")\n",
        "def (user_operation1 + user_operation2)\n",
        "final_result = input(\"Enter final result: \",user_operation3)\n",
        "saveDetails(user_operation1, user_operation2, final_result)"
      ],
      "metadata": {
        "id": "SoyCakBr1utw",
        "colab": {
          "base_uri": "https://localhost:8080/",
          "height": 141
        },
        "outputId": "afcf015d-bf06-4c9c-f872-02ac0e06bfbb"
      },
      "execution_count": null,
      "outputs": [
        {
          "output_type": "error",
          "ename": "SyntaxError",
          "evalue": "ignored",
          "traceback": [
            "\u001b[0;36m  File \u001b[0;32m\"<ipython-input-25-ef2b94446bf3>\"\u001b[0;36m, line \u001b[0;32m10\u001b[0m\n\u001b[0;31m    def (user_operation1 + user_operation2)\u001b[0m\n\u001b[0m        ^\u001b[0m\n\u001b[0;31mSyntaxError\u001b[0m\u001b[0;31m:\u001b[0m invalid syntax\n"
          ]
        }
      ]
    },
    {
      "cell_type": "code",
      "source": [],
      "metadata": {
        "id": "Zsd6LcUHaKC9"
      },
      "execution_count": null,
      "outputs": []
    }
  ]
}