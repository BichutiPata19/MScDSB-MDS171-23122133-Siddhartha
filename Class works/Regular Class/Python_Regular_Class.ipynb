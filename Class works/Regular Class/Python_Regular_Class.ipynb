{
  "nbformat": 4,
  "nbformat_minor": 0,
  "metadata": {
    "colab": {
      "provenance": []
    },
    "kernelspec": {
      "name": "python3",
      "display_name": "Python 3"
    },
    "language_info": {
      "name": "python"
    }
  },
  "cells": [
    {
      "cell_type": "code",
      "execution_count": null,
      "metadata": {
        "colab": {
          "base_uri": "https://localhost:8080/"
        },
        "id": "2vDgHz0NxUdZ",
        "outputId": "ffd36fc9-db78-4542-dfc5-764241c9fdda"
      },
      "outputs": [
        {
          "output_type": "execute_result",
          "data": {
            "text/plain": [
              "str"
            ]
          },
          "metadata": {},
          "execution_count": 1
        }
      ],
      "source": [
        "df = \"msg\"\n",
        "type (df)"
      ]
    },
    {
      "cell_type": "code",
      "source": [
        "# IF STATEMENT\n",
        "# if condition:\n",
        "# true block"
      ],
      "metadata": {
        "id": "RtxZF3-NzGmC"
      },
      "execution_count": null,
      "outputs": []
    },
    {
      "cell_type": "code",
      "source": [
        "a = 5\n",
        "print (\"Program Starts\")\n",
        "if a == 5:\n",
        "   print (\"The value of A is 5\")\n",
        "print (\"Program Ends\")"
      ],
      "metadata": {
        "colab": {
          "base_uri": "https://localhost:8080/"
        },
        "id": "O7IkZbNN1aJ4",
        "outputId": "a133bbfd-7b63-45a4-b288-d8a0ca319250"
      },
      "execution_count": null,
      "outputs": [
        {
          "output_type": "stream",
          "name": "stdout",
          "text": [
            "Program Starts\n",
            "The value of A is 5\n",
            "Program Ends\n"
          ]
        }
      ]
    },
    {
      "cell_type": "code",
      "source": [
        "a = 5\n",
        "print (\"Program Starts\")\n",
        "if a == 50:\n",
        "   print (\"The value of A is 5\")\n",
        "else:\n",
        "   print (\"The value is something else\")\n",
        "print (\"Program Ends\")"
      ],
      "metadata": {
        "colab": {
          "base_uri": "https://localhost:8080/"
        },
        "id": "dJFi7cSU2cLn",
        "outputId": "2f30530b-4426-4f92-f1b7-89df190048fb"
      },
      "execution_count": null,
      "outputs": [
        {
          "output_type": "stream",
          "name": "stdout",
          "text": [
            "Program Starts\n",
            "The value is something else\n",
            "Program Ends\n"
          ]
        }
      ]
    },
    {
      "cell_type": "code",
      "source": [
        "a = 5\n",
        "print (\"Program Starts\")\n",
        "if a == 5:\n",
        "   print (\"The value of A is 5\")\n",
        "elif a == 1:\n",
        "   print(\"One\")\n",
        "else:\n",
        "   print (\"The value is something else...\")\n",
        "print (\"Program Ends\")"
      ],
      "metadata": {
        "colab": {
          "base_uri": "https://localhost:8080/"
        },
        "id": "ja3Vxtio3yy0",
        "outputId": "77b7a421-a09f-4916-8974-06f8a4d1f990"
      },
      "execution_count": null,
      "outputs": [
        {
          "output_type": "stream",
          "name": "stdout",
          "text": [
            "Program Starts\n",
            "The value of A is 5\n",
            "Program Ends\n"
          ]
        }
      ]
    },
    {
      "cell_type": "code",
      "source": [
        "a = 5\n",
        "if a == 50:\n",
        "  print(\"Print Five\")\n",
        "else:\n",
        " print(\"Not Five\")"
      ],
      "metadata": {
        "colab": {
          "base_uri": "https://localhost:8080/"
        },
        "id": "qxDo-BBREo-r",
        "outputId": "b724f1d9-10db-4267-c618-7ebd126e3e7e"
      },
      "execution_count": null,
      "outputs": [
        {
          "output_type": "stream",
          "name": "stdout",
          "text": [
            "Not Five\n"
          ]
        }
      ]
    },
    {
      "cell_type": "code",
      "source": [
        "# Based on the user input, print the corresponding day of the week if 1-> Sunday, 2-> Monday, ....\n",
        "\n",
        "a = 70\n",
        "if a == 1:\n",
        " print (\"Sunday\")\n",
        "elif a == 2:\n",
        "  print (\"Monday\")\n",
        "elif a == 3:\n",
        "  print (\"Tuesday\")\n",
        "elif a == 4:\n",
        "  print (\"Wednesday\")\n",
        "elif a == 5:\n",
        "  print (\"Thursday\")\n",
        "elif a == 6:\n",
        "  print (\"Friday\")\n",
        "elif a == 7:\n",
        "  print (\"Saturday\")\n",
        "else:\n",
        " print (\"Not A Day of The Week\")"
      ],
      "metadata": {
        "colab": {
          "base_uri": "https://localhost:8080/"
        },
        "id": "JewPtWbcGFol",
        "outputId": "07776ace-c7af-4bfe-e83c-244ab567b7bd"
      },
      "execution_count": null,
      "outputs": [
        {
          "output_type": "stream",
          "name": "stdout",
          "text": [
            "Not A Day of The Week\n"
          ]
        }
      ]
    },
    {
      "cell_type": "code",
      "source": [
        "msg = \"I am Siddhartha\"\n",
        "len(msg)\n",
        "print (len(msg))"
      ],
      "metadata": {
        "colab": {
          "base_uri": "https://localhost:8080/"
        },
        "id": "FgFWigQKKek-",
        "outputId": "119d0a0e-c794-4286-99ae-093aa4d68536"
      },
      "execution_count": null,
      "outputs": [
        {
          "output_type": "stream",
          "name": "stdout",
          "text": [
            "15\n"
          ]
        }
      ]
    },
    {
      "cell_type": "code",
      "source": [
        "msg.upper()"
      ],
      "metadata": {
        "colab": {
          "base_uri": "https://localhost:8080/",
          "height": 35
        },
        "id": "7vUccg9rR81-",
        "outputId": "283d5d34-8bd2-41ff-c93f-91abc001b503"
      },
      "execution_count": null,
      "outputs": [
        {
          "output_type": "execute_result",
          "data": {
            "text/plain": [
              "'I AM SIDDHARTHA'"
            ],
            "application/vnd.google.colaboratory.intrinsic+json": {
              "type": "string"
            }
          },
          "metadata": {},
          "execution_count": 31
        }
      ]
    },
    {
      "cell_type": "code",
      "source": [
        "msg.lower()"
      ],
      "metadata": {
        "colab": {
          "base_uri": "https://localhost:8080/",
          "height": 35
        },
        "id": "pGzbnWU9SRBi",
        "outputId": "126202ab-a66b-4e5f-ab5e-983b05952481"
      },
      "execution_count": null,
      "outputs": [
        {
          "output_type": "execute_result",
          "data": {
            "text/plain": [
              "'i am siddhartha'"
            ],
            "application/vnd.google.colaboratory.intrinsic+json": {
              "type": "string"
            }
          },
          "metadata": {},
          "execution_count": 32
        }
      ]
    },
    {
      "cell_type": "code",
      "source": [
        "print(msg.upper())\n",
        "print(msg.lower())\n",
        "print(msg.upper())\n",
        "print(msg.swapcase())"
      ],
      "metadata": {
        "colab": {
          "base_uri": "https://localhost:8080/"
        },
        "id": "3QBMePlASfzP",
        "outputId": "12e1fecd-9b0b-491c-cd72-f8f92ae9dd46"
      },
      "execution_count": null,
      "outputs": [
        {
          "output_type": "stream",
          "name": "stdout",
          "text": [
            "I AM SIDDHARTHA\n",
            "i am siddhartha\n",
            "I AM SIDDHARTHA\n",
            "i AM sIDDHARTHA\n"
          ]
        }
      ]
    },
    {
      "cell_type": "code",
      "source": [
        "msg = \"       Sid        \"\n",
        "print(type(msg))\n",
        "print(len(msg))\n",
        "print(len(msg.strip()))"
      ],
      "metadata": {
        "colab": {
          "base_uri": "https://localhost:8080/"
        },
        "id": "erQEvry0TceF",
        "outputId": "80f1169c-0f6c-4100-fd4f-7e63ecfc4523"
      },
      "execution_count": null,
      "outputs": [
        {
          "output_type": "stream",
          "name": "stdout",
          "text": [
            "<class 'str'>\n",
            "18\n",
            "3\n"
          ]
        }
      ]
    },
    {
      "cell_type": "code",
      "source": [
        "msg = \"       Sid shgdvfdsh       \"\n",
        "print(type(msg))\n",
        "print(len(msg))\n",
        "print(len(msg.strip()))"
      ],
      "metadata": {
        "colab": {
          "base_uri": "https://localhost:8080/"
        },
        "id": "mY4IwaLyUK_u",
        "outputId": "3d4cb440-3ef5-47e2-d6e6-ddbb798dd18a"
      },
      "execution_count": null,
      "outputs": [
        {
          "output_type": "stream",
          "name": "stdout",
          "text": [
            "<class 'str'>\n",
            "27\n",
            "13\n"
          ]
        }
      ]
    },
    {
      "cell_type": "code",
      "source": [
        "msg = \"       Sid \\shg\\dvfdsh       \"\n",
        "print(msg)\n",
        "print(type(msg))\n",
        "print(len(msg.strip()))"
      ],
      "metadata": {
        "colab": {
          "base_uri": "https://localhost:8080/"
        },
        "id": "vqFM9ZQQUT_Q",
        "outputId": "2c156f42-1f7e-4f55-9dec-60b63b46974f"
      },
      "execution_count": null,
      "outputs": [
        {
          "output_type": "stream",
          "name": "stdout",
          "text": [
            "       Sid \\shg\\dvfdsh       \n",
            "<class 'str'>\n",
            "15\n"
          ]
        }
      ]
    },
    {
      "cell_type": "code",
      "source": [
        "msg = \"2, 3, 4\"\n",
        "print(msg.split(\",\"))"
      ],
      "metadata": {
        "colab": {
          "base_uri": "https://localhost:8080/"
        },
        "id": "aORuAmR-UsIP",
        "outputId": "0ebe7a47-30e6-471e-8bdd-37e88b21b7be"
      },
      "execution_count": null,
      "outputs": [
        {
          "output_type": "stream",
          "name": "stdout",
          "text": [
            "['2', ' 3', ' 4']\n"
          ]
        }
      ]
    },
    {
      "cell_type": "code",
      "source": [
        "msg = \"S, I, D\"\n",
        "print(msg.split(\",\"))"
      ],
      "metadata": {
        "colab": {
          "base_uri": "https://localhost:8080/"
        },
        "id": "FhNH9AewVIMx",
        "outputId": "0af94a79-5910-4f36-8723-30a019adf581"
      },
      "execution_count": null,
      "outputs": [
        {
          "output_type": "stream",
          "name": "stdout",
          "text": [
            "['S', ' I', ' D']\n"
          ]
        }
      ]
    },
    {
      "cell_type": "code",
      "source": [
        "msg = \"S; I; D\"\n",
        "print(msg.split(\";\"))"
      ],
      "metadata": {
        "colab": {
          "base_uri": "https://localhost:8080/"
        },
        "id": "hnH6oPV7VNYp",
        "outputId": "4d657f18-94f5-4ed4-9005-885bd6fe4832"
      },
      "execution_count": null,
      "outputs": [
        {
          "output_type": "stream",
          "name": "stdout",
          "text": [
            "['S', ' I', ' D']\n"
          ]
        }
      ]
    },
    {
      "cell_type": "code",
      "source": [
        "msg = \"S , I, D\"\n",
        "print(msg.split(\";\"))"
      ],
      "metadata": {
        "colab": {
          "base_uri": "https://localhost:8080/"
        },
        "id": "JvAcKvqyVm13",
        "outputId": "6fbff10f-72d2-41a5-9dfa-7a3099b19268"
      },
      "execution_count": null,
      "outputs": [
        {
          "output_type": "stream",
          "name": "stdout",
          "text": [
            "['S , I, D']\n"
          ]
        }
      ]
    },
    {
      "cell_type": "code",
      "source": [
        "msg = \"S,I,D\"\n",
        "df = msg.split(\",\")\n",
        "for item in df:\n",
        " print(item)"
      ],
      "metadata": {
        "colab": {
          "base_uri": "https://localhost:8080/"
        },
        "id": "P09p4ezKVtOx",
        "outputId": "fe34762f-e67b-4798-e0d3-72bc5886c598"
      },
      "execution_count": null,
      "outputs": [
        {
          "output_type": "stream",
          "name": "stdout",
          "text": [
            "S\n",
            "I\n",
            "D\n"
          ]
        }
      ]
    },
    {
      "cell_type": "code",
      "source": [
        "msg = \"1, 2, 3\"\n",
        "df = msg.split(\",\")\n",
        "for item in df:\n",
        " print(item)"
      ],
      "metadata": {
        "colab": {
          "base_uri": "https://localhost:8080/"
        },
        "id": "z3w5KvGMWMNa",
        "outputId": "56d7d3dc-ddec-47cd-ce12-ef9c7990fbe0"
      },
      "execution_count": null,
      "outputs": [
        {
          "output_type": "stream",
          "name": "stdout",
          "text": [
            "1\n",
            " 2\n",
            " 3\n"
          ]
        }
      ]
    },
    {
      "cell_type": "code",
      "source": [
        "msg = \"S, I, D\"\n",
        "df = msg.split(\",\")\n",
        "for item in df:\n",
        " print(item, type(item))"
      ],
      "metadata": {
        "colab": {
          "base_uri": "https://localhost:8080/"
        },
        "id": "mWUhoIm1Wl14",
        "outputId": "f5c2849f-3087-4714-9930-d02635ae296b"
      },
      "execution_count": null,
      "outputs": [
        {
          "output_type": "stream",
          "name": "stdout",
          "text": [
            "S <class 'str'>\n",
            " I <class 'str'>\n",
            " D <class 'str'>\n"
          ]
        }
      ]
    },
    {
      "cell_type": "code",
      "source": [
        "msg = \"1, 2, 3\"\n",
        "df = msg.split(\",\")\n",
        "print(df)\n",
        "for item in df:\n",
        "  temp = int(item)\n",
        "  print(item,type(item),temp,type(temp))"
      ],
      "metadata": {
        "colab": {
          "base_uri": "https://localhost:8080/"
        },
        "id": "KRs9pK_lXf0G",
        "outputId": "8efaf183-ba89-4922-c008-52d0a7e670e5"
      },
      "execution_count": null,
      "outputs": [
        {
          "output_type": "stream",
          "name": "stdout",
          "text": [
            "['1', ' 2', ' 3']\n",
            "1 <class 'str'> 1 <class 'int'>\n",
            " 2 <class 'str'> 2 <class 'int'>\n",
            " 3 <class 'str'> 3 <class 'int'>\n"
          ]
        }
      ]
    },
    {
      "cell_type": "code",
      "source": [
        "msg = \"1, 2, 3\"\n",
        "df = msg.split(\",\")\n",
        "print(df)\n",
        "sum = 0\n",
        "for item in df:\n",
        "  temp = int(item)\n",
        "  sum = sum + temp\n",
        "  print(item,type(item),temp,type(temp))\n",
        "print(sum)"
      ],
      "metadata": {
        "colab": {
          "base_uri": "https://localhost:8080/"
        },
        "id": "1JAB4-yJZDvw",
        "outputId": "9ba66127-01c4-4a6a-bbcf-30e9e12a0e34"
      },
      "execution_count": null,
      "outputs": [
        {
          "output_type": "stream",
          "name": "stdout",
          "text": [
            "['1', ' 2', ' 3']\n",
            "1 <class 'str'> 1 <class 'int'>\n",
            " 2 <class 'str'> 2 <class 'int'>\n",
            " 3 <class 'str'> 3 <class 'int'>\n",
            "6\n"
          ]
        }
      ]
    },
    {
      "cell_type": "code",
      "source": [
        "msg = \"1, 2, 3\"\n",
        "df = msg.split(\",\")\n",
        "print(df)\n",
        "sum = 10\n",
        "for item in df:\n",
        "  temp = int(item)\n",
        "  sum = sum + temp\n",
        "  print(item,type(item),temp,type(temp))\n",
        "print(sum)"
      ],
      "metadata": {
        "colab": {
          "base_uri": "https://localhost:8080/"
        },
        "id": "_KUUQ2eQZnYJ",
        "outputId": "e6975216-8096-4839-dcc8-7b2c50376c19"
      },
      "execution_count": null,
      "outputs": [
        {
          "output_type": "stream",
          "name": "stdout",
          "text": [
            "['1', ' 2', ' 3']\n",
            "1 <class 'str'> 1 <class 'int'>\n",
            " 2 <class 'str'> 2 <class 'int'>\n",
            " 3 <class 'str'> 3 <class 'int'>\n",
            "16\n"
          ]
        }
      ]
    },
    {
      "cell_type": "code",
      "source": [
        "name = input(\"Enter user name: \")\n",
        "password = input(\"Enter the password: \")\n",
        "\n",
        "print(\"Your username: {} and password entered is: {}\". format(name, password))"
      ],
      "metadata": {
        "colab": {
          "base_uri": "https://localhost:8080/"
        },
        "id": "JOZojrTDbGF5",
        "outputId": "385ba8c0-db52-4cc9-b5e3-f9a904f33ba0"
      },
      "execution_count": null,
      "outputs": [
        {
          "output_type": "stream",
          "name": "stdout",
          "text": [
            "Enter user name: Siddhartha\n",
            "Enter the password: Oli@1011\n",
            "Your username: Siddhartha and password entered is: Oli@1011\n"
          ]
        }
      ]
    },
    {
      "cell_type": "code",
      "source": [
        "for i in range(1,25,7):\n",
        "  print(i)"
      ],
      "metadata": {
        "colab": {
          "base_uri": "https://localhost:8080/"
        },
        "id": "GeIzi5AkcTF-",
        "outputId": "861337c2-7c10-4531-f974-7586fbccc520"
      },
      "execution_count": null,
      "outputs": [
        {
          "output_type": "stream",
          "name": "stdout",
          "text": [
            "1\n",
            "8\n",
            "15\n",
            "22\n"
          ]
        }
      ]
    },
    {
      "cell_type": "code",
      "source": [
        "# Find sum of n multiples of 2 where n is user input\n",
        "sum = 0\n",
        "for i in range(2,20,2):\n",
        " print(i)\n",
        " sum = sum + i\n",
        "\n",
        "print(sum)"
      ],
      "metadata": {
        "colab": {
          "base_uri": "https://localhost:8080/"
        },
        "id": "KFNcTGSqdOfN",
        "outputId": "8f19ca32-799b-4319-b262-074611c50a96"
      },
      "execution_count": null,
      "outputs": [
        {
          "output_type": "stream",
          "name": "stdout",
          "text": [
            "2\n",
            "4\n",
            "6\n",
            "8\n",
            "10\n",
            "12\n",
            "14\n",
            "16\n",
            "18\n",
            "90\n"
          ]
        }
      ]
    },
    {
      "cell_type": "code",
      "source": [
        "nlist = [\"abc\", \"oli\", \"sid\", 23, 6.9, \"debo_sid\"]\n",
        "print(nlist)"
      ],
      "metadata": {
        "colab": {
          "base_uri": "https://localhost:8080/"
        },
        "id": "LU9PAHlRfqvs",
        "outputId": "b3ec5e8e-fe15-4ad8-dad8-a3f607835b55"
      },
      "execution_count": null,
      "outputs": [
        {
          "output_type": "stream",
          "name": "stdout",
          "text": [
            "['abc', 'oli', 'sid', 23, 6.9, 'debo_sid']\n"
          ]
        }
      ]
    },
    {
      "cell_type": "code",
      "source": [
        "nlist = [\"abc\", \"oli\", \"sid\", 23, 6.9, \"debo_sid\"]\n",
        "print(nlist[\"abc\"])"
      ],
      "metadata": {
        "colab": {
          "base_uri": "https://localhost:8080/",
          "height": 193
        },
        "id": "V5Ts6GG6fqc-",
        "outputId": "0a07f6c4-cb29-482f-b270-05b835c70e44"
      },
      "execution_count": null,
      "outputs": [
        {
          "output_type": "error",
          "ename": "TypeError",
          "evalue": "ignored",
          "traceback": [
            "\u001b[0;31m---------------------------------------------------------------------------\u001b[0m",
            "\u001b[0;31mTypeError\u001b[0m                                 Traceback (most recent call last)",
            "\u001b[0;32m<ipython-input-107-8611933f660d>\u001b[0m in \u001b[0;36m<cell line: 2>\u001b[0;34m()\u001b[0m\n\u001b[1;32m      1\u001b[0m \u001b[0mnlist\u001b[0m \u001b[0;34m=\u001b[0m \u001b[0;34m[\u001b[0m\u001b[0;34m\"abc\"\u001b[0m\u001b[0;34m,\u001b[0m \u001b[0;34m\"oli\"\u001b[0m\u001b[0;34m,\u001b[0m \u001b[0;34m\"sid\"\u001b[0m\u001b[0;34m,\u001b[0m \u001b[0;36m23\u001b[0m\u001b[0;34m,\u001b[0m \u001b[0;36m6.9\u001b[0m\u001b[0;34m,\u001b[0m \u001b[0;34m\"debo_sid\"\u001b[0m\u001b[0;34m]\u001b[0m\u001b[0;34m\u001b[0m\u001b[0;34m\u001b[0m\u001b[0m\n\u001b[0;32m----> 2\u001b[0;31m \u001b[0mprint\u001b[0m\u001b[0;34m(\u001b[0m\u001b[0mnlist\u001b[0m\u001b[0;34m[\u001b[0m\u001b[0;34m\"abc\"\u001b[0m\u001b[0;34m]\u001b[0m\u001b[0;34m)\u001b[0m\u001b[0;34m\u001b[0m\u001b[0;34m\u001b[0m\u001b[0m\n\u001b[0m",
            "\u001b[0;31mTypeError\u001b[0m: list indices must be integers or slices, not str"
          ]
        }
      ]
    },
    {
      "cell_type": "code",
      "source": [
        "listex = [\"one\", \"two\", \"three\", 'four']\n",
        "print(listex)\n",
        "print(listex[3])"
      ],
      "metadata": {
        "colab": {
          "base_uri": "https://localhost:8080/"
        },
        "id": "kAShWWR3Wtg9",
        "outputId": "84ab1b8c-fd5a-4c46-9f28-4fd921f4be16"
      },
      "execution_count": null,
      "outputs": [
        {
          "output_type": "stream",
          "name": "stdout",
          "text": [
            "['one', 'two', 'three', 'four']\n",
            "four\n"
          ]
        }
      ]
    },
    {
      "cell_type": "code",
      "source": [
        "if \"three\" in listex:\n",
        "  print(\"Success\")"
      ],
      "metadata": {
        "colab": {
          "base_uri": "https://localhost:8080/"
        },
        "id": "Z_Hu6vIsW1Z3",
        "outputId": "d08f07bb-572e-4c00-baf8-6f1ab67b8433"
      },
      "execution_count": null,
      "outputs": [
        {
          "output_type": "stream",
          "name": "stdout",
          "text": [
            "Success\n"
          ]
        }
      ]
    },
    {
      "cell_type": "code",
      "source": [
        "listex.append(\"five\")\n",
        "listex"
      ],
      "metadata": {
        "colab": {
          "base_uri": "https://localhost:8080/"
        },
        "id": "KHqjUTH-XCiX",
        "outputId": "6393e302-28c5-42dd-f487-19f0225401f2"
      },
      "execution_count": null,
      "outputs": [
        {
          "output_type": "execute_result",
          "data": {
            "text/plain": [
              "['one', 'two', 'three', 'four', 'five']"
            ]
          },
          "metadata": {},
          "execution_count": 35
        }
      ]
    },
    {
      "cell_type": "code",
      "source": [
        "listex.pop()\n",
        "listex"
      ],
      "metadata": {
        "colab": {
          "base_uri": "https://localhost:8080/"
        },
        "id": "8w35BvqOX7lu",
        "outputId": "79075f96-f9d9-4728-8821-4b9984705aea"
      },
      "execution_count": null,
      "outputs": [
        {
          "output_type": "execute_result",
          "data": {
            "text/plain": [
              "['one', 'two', 'three', 'four']"
            ]
          },
          "metadata": {},
          "execution_count": 36
        }
      ]
    },
    {
      "cell_type": "code",
      "source": [
        "listex.remove(\"one\")\n",
        "listex"
      ],
      "metadata": {
        "colab": {
          "base_uri": "https://localhost:8080/"
        },
        "id": "FX7rpzayYYJW",
        "outputId": "39ef8f09-2d69-4c91-d756-ed635f77b8af"
      },
      "execution_count": null,
      "outputs": [
        {
          "output_type": "execute_result",
          "data": {
            "text/plain": [
              "['two', 'three', 'four']"
            ]
          },
          "metadata": {},
          "execution_count": 37
        }
      ]
    },
    {
      "cell_type": "code",
      "source": [
        "len(listex)"
      ],
      "metadata": {
        "colab": {
          "base_uri": "https://localhost:8080/"
        },
        "id": "7C19Fd2iZMTy",
        "outputId": "75b19368-b0e7-423d-fb33-2f07cfa32512"
      },
      "execution_count": null,
      "outputs": [
        {
          "output_type": "execute_result",
          "data": {
            "text/plain": [
              "3"
            ]
          },
          "metadata": {},
          "execution_count": 38
        }
      ]
    },
    {
      "cell_type": "code",
      "source": [
        "listex.reverse()\n",
        "listex"
      ],
      "metadata": {
        "colab": {
          "base_uri": "https://localhost:8080/"
        },
        "id": "yJgYT5y4ZSiQ",
        "outputId": "08f09ed2-6666-4bce-e832-18cbb8c344ae"
      },
      "execution_count": null,
      "outputs": [
        {
          "output_type": "execute_result",
          "data": {
            "text/plain": [
              "['four', 'three', 'two']"
            ]
          },
          "metadata": {},
          "execution_count": 39
        }
      ]
    },
    {
      "cell_type": "code",
      "source": [
        "listex.sort()\n",
        "listex"
      ],
      "metadata": {
        "colab": {
          "base_uri": "https://localhost:8080/"
        },
        "id": "r719emM2ZvXK",
        "outputId": "9968b5e1-b1e1-4e3b-cbd1-6ccf671be9c0"
      },
      "execution_count": null,
      "outputs": [
        {
          "output_type": "execute_result",
          "data": {
            "text/plain": [
              "['four', 'three', 'two']"
            ]
          },
          "metadata": {},
          "execution_count": 40
        }
      ]
    },
    {
      "cell_type": "code",
      "source": [
        "def fname():\n",
        "  print(\"I am your first function...\")\n",
        "fname()"
      ],
      "metadata": {
        "colab": {
          "base_uri": "https://localhost:8080/"
        },
        "id": "Pb4YtKf1aKlX",
        "outputId": "57780231-02d4-4c21-d53b-05c1226c1aa4"
      },
      "execution_count": null,
      "outputs": [
        {
          "output_type": "stream",
          "name": "stdout",
          "text": [
            "I am your first function...\n"
          ]
        }
      ]
    },
    {
      "cell_type": "code",
      "source": [
        "def fname():\n",
        "  print(\"I am your first function...\")\n",
        "  df = \"Success\"\n",
        "  return df\n",
        "status = fname()\n",
        "print(status)"
      ],
      "metadata": {
        "colab": {
          "base_uri": "https://localhost:8080/"
        },
        "id": "8aP-tXkDcWPa",
        "outputId": "35d48269-d9da-4c31-c29d-d9e090d92454"
      },
      "execution_count": null,
      "outputs": [
        {
          "output_type": "stream",
          "name": "stdout",
          "text": [
            "I am your first function...\n",
            "Success\n"
          ]
        }
      ]
    },
    {
      "cell_type": "code",
      "source": [
        "def fname():\n",
        "  print(\"I am your first function...\")\n",
        "  df = \"Success\"\n",
        "  return df, True\n",
        "status, flag = fname()\n",
        "print(status, flag)"
      ],
      "metadata": {
        "colab": {
          "base_uri": "https://localhost:8080/"
        },
        "id": "C7QJnFosdMpk",
        "outputId": "99f23cfd-011c-4602-d2b3-9096f16fb9b7"
      },
      "execution_count": null,
      "outputs": [
        {
          "output_type": "stream",
          "name": "stdout",
          "text": [
            "I am your first function...\n",
            "Success True\n"
          ]
        }
      ]
    },
    {
      "cell_type": "code",
      "source": [
        "def fname(n):\n",
        "  print(\"I am your first function...\",n)\n",
        "  df = \"Success\"\n",
        "  return df, True\n",
        "name = \"Siddy_boi\"\n",
        "status, flag = fname(name)\n",
        "print(status, flag)"
      ],
      "metadata": {
        "colab": {
          "base_uri": "https://localhost:8080/"
        },
        "id": "hfZnWUPQdsyx",
        "outputId": "b9871666-2a0d-4e7b-ec77-84aed1790016"
      },
      "execution_count": null,
      "outputs": [
        {
          "output_type": "stream",
          "name": "stdout",
          "text": [
            "I am your first function... Siddy_boi\n",
            "Success True\n"
          ]
        }
      ]
    },
    {
      "cell_type": "code",
      "source": [
        "lst = [1, 2, 3]\n",
        "for item in lst:\n",
        "   print(item)"
      ],
      "metadata": {
        "id": "s7z7Lp3Aeuqh",
        "colab": {
          "base_uri": "https://localhost:8080/"
        },
        "outputId": "ddbfeadd-81bc-4c7b-fa1a-5c2ff15b054d"
      },
      "execution_count": null,
      "outputs": [
        {
          "output_type": "stream",
          "name": "stdout",
          "text": [
            "1\n",
            "2\n",
            "3\n"
          ]
        }
      ]
    },
    {
      "cell_type": "code",
      "source": [
        "for item in range(0, len(lst), 1):\n",
        " print(lst[item])"
      ],
      "metadata": {
        "id": "Yc94MAMMWzLo",
        "outputId": "ead6632e-9faa-4277-8d37-c69dc5df74f5",
        "colab": {
          "base_uri": "https://localhost:8080/"
        }
      },
      "execution_count": null,
      "outputs": [
        {
          "output_type": "stream",
          "name": "stdout",
          "text": [
            "1\n",
            "2\n",
            "3\n"
          ]
        }
      ]
    },
    {
      "cell_type": "code",
      "source": [
        "file = open(\"Sample.txt\",\"w+\")\n",
        "file.write(\"This is my first line to file from python\")"
      ],
      "metadata": {
        "id": "i7JTwBjnW3h8",
        "colab": {
          "base_uri": "https://localhost:8080/"
        },
        "outputId": "e7b549bb-618f-41f1-ef34-7415853c7419"
      },
      "execution_count": null,
      "outputs": [
        {
          "output_type": "execute_result",
          "data": {
            "text/plain": [
              "41"
            ]
          },
          "metadata": {},
          "execution_count": 42
        }
      ]
    },
    {
      "cell_type": "code",
      "source": [
        "file.write(\"This is my first line to file from python\")"
      ],
      "metadata": {
        "colab": {
          "base_uri": "https://localhost:8080/"
        },
        "id": "dxxznvhod5zK",
        "outputId": "7e1dfe1e-7a0e-40d3-ba7d-640a32754096"
      },
      "execution_count": null,
      "outputs": [
        {
          "output_type": "execute_result",
          "data": {
            "text/plain": [
              "41"
            ]
          },
          "metadata": {},
          "execution_count": 43
        }
      ]
    },
    {
      "cell_type": "code",
      "source": [
        "file = open(\"Sample.txt\",\"w+\")\n",
        "file.write(\"This is my first line to file from python\\n\")"
      ],
      "metadata": {
        "colab": {
          "base_uri": "https://localhost:8080/"
        },
        "id": "g8BBb1UOd-8Y",
        "outputId": "c3aa78b3-ad30-4ce1-9e88-e4465b3af9d0"
      },
      "execution_count": null,
      "outputs": [
        {
          "output_type": "execute_result",
          "data": {
            "text/plain": [
              "42"
            ]
          },
          "metadata": {},
          "execution_count": 50
        }
      ]
    },
    {
      "cell_type": "code",
      "source": [
        "file.write(\"This is my first line to file from python\\n\")"
      ],
      "metadata": {
        "colab": {
          "base_uri": "https://localhost:8080/"
        },
        "id": "l3HQA_O2eGhA",
        "outputId": "3bee7e91-780d-45a6-f209-6c81a7da5ed4"
      },
      "execution_count": null,
      "outputs": [
        {
          "output_type": "execute_result",
          "data": {
            "text/plain": [
              "42"
            ]
          },
          "metadata": {},
          "execution_count": 52
        }
      ]
    },
    {
      "cell_type": "code",
      "source": [
        "file.close()"
      ],
      "metadata": {
        "id": "nt0mFUh5am0_"
      },
      "execution_count": null,
      "outputs": []
    },
    {
      "cell_type": "code",
      "source": [
        "file = open(\"Sample.txt\",\"r+\")\n",
        "file.readline()"
      ],
      "metadata": {
        "colab": {
          "base_uri": "https://localhost:8080/",
          "height": 35
        },
        "id": "jY8k5xU9fWfY",
        "outputId": "828007af-de91-4612-b059-6d547cb66a8f"
      },
      "execution_count": null,
      "outputs": [
        {
          "output_type": "execute_result",
          "data": {
            "text/plain": [
              "'This is my first line to file from python\\n'"
            ],
            "application/vnd.google.colaboratory.intrinsic+json": {
              "type": "string"
            }
          },
          "metadata": {},
          "execution_count": 56
        }
      ]
    },
    {
      "cell_type": "code",
      "source": [
        "file.readlines()"
      ],
      "metadata": {
        "colab": {
          "base_uri": "https://localhost:8080/"
        },
        "id": "rnRn65fAf-9C",
        "outputId": "46bf2195-7a1a-4705-8369-b4cd998ed116"
      },
      "execution_count": null,
      "outputs": [
        {
          "output_type": "execute_result",
          "data": {
            "text/plain": [
              "['This is my first line to file from python\\n',\n",
              " 'This is my first line to file from python\\n']"
            ]
          },
          "metadata": {},
          "execution_count": 57
        }
      ]
    },
    {
      "cell_type": "code",
      "source": [
        "a = 0\n",
        "while a < 7:\n",
        "  res = a * a\n",
        "  print (a, res)\n",
        "  a = a + 1"
      ],
      "metadata": {
        "id": "rjdlmgNC3WJn",
        "colab": {
          "base_uri": "https://localhost:8080/"
        },
        "outputId": "6b971419-c3cd-4473-ca54-9a6d2b6affdf"
      },
      "execution_count": null,
      "outputs": [
        {
          "output_type": "stream",
          "name": "stdout",
          "text": [
            "0 0\n",
            "1 1\n",
            "2 4\n",
            "3 9\n",
            "4 16\n",
            "5 25\n",
            "6 36\n"
          ]
        }
      ]
    },
    {
      "cell_type": "code",
      "source": [
        "a = 0\n",
        "while a < 7:\n",
        "  res = a * a\n",
        "  print (a, res)\n",
        "  a = a + 2"
      ],
      "metadata": {
        "colab": {
          "base_uri": "https://localhost:8080/"
        },
        "id": "JkX7HuKWbz1q",
        "outputId": "39cfd19f-dc09-4653-eb04-f909b1b00426"
      },
      "execution_count": null,
      "outputs": [
        {
          "output_type": "stream",
          "name": "stdout",
          "text": [
            "0 0\n",
            "2 4\n",
            "4 16\n",
            "6 36\n"
          ]
        }
      ]
    },
    {
      "cell_type": "code",
      "source": [
        "a = 0\n",
        "while a < 7:\n",
        "  res = a * a\n",
        "  print (a, res)\n",
        "  a = a + 8"
      ],
      "metadata": {
        "colab": {
          "base_uri": "https://localhost:8080/"
        },
        "id": "r0cs9YBRb8L5",
        "outputId": "69d56ed4-38e3-4d0a-f7d3-9f4a5a327d75"
      },
      "execution_count": null,
      "outputs": [
        {
          "output_type": "stream",
          "name": "stdout",
          "text": [
            "0 0\n"
          ]
        }
      ]
    },
    {
      "cell_type": "code",
      "source": [
        "a = 2\n",
        "while a < 7:\n",
        "  res = a * a\n",
        "  print (a, res)\n",
        "  a = a + 1"
      ],
      "metadata": {
        "colab": {
          "base_uri": "https://localhost:8080/"
        },
        "id": "SbBZsy7YcIiH",
        "outputId": "01344c62-1925-42b1-d17b-dee8e97202a8"
      },
      "execution_count": null,
      "outputs": [
        {
          "output_type": "stream",
          "name": "stdout",
          "text": [
            "2 4\n",
            "3 9\n",
            "4 16\n",
            "5 25\n",
            "6 36\n"
          ]
        }
      ]
    },
    {
      "cell_type": "code",
      "source": [
        "a = 2\n",
        "while a < 7:\n",
        "  res = a * a\n",
        "  print (a, res)\n",
        "  a = a + 8"
      ],
      "metadata": {
        "colab": {
          "base_uri": "https://localhost:8080/"
        },
        "id": "6UoWRRVMcWKr",
        "outputId": "332aa573-f580-4472-f989-648663bcbbe0"
      },
      "execution_count": null,
      "outputs": [
        {
          "output_type": "stream",
          "name": "stdout",
          "text": [
            "2 4\n"
          ]
        }
      ]
    },
    {
      "cell_type": "code",
      "source": [
        "for i in range (1,10,1):\n",
        "  if i == 7:\n",
        "    break\n",
        "  print(i)"
      ],
      "metadata": {
        "colab": {
          "base_uri": "https://localhost:8080/"
        },
        "id": "LeZmoQExc9UF",
        "outputId": "76c4d235-0c08-4c9f-a156-afa3656aa47e"
      },
      "execution_count": null,
      "outputs": [
        {
          "output_type": "stream",
          "name": "stdout",
          "text": [
            "1\n",
            "2\n",
            "3\n",
            "4\n",
            "5\n",
            "6\n"
          ]
        }
      ]
    },
    {
      "cell_type": "code",
      "source": [
        "for i in range (1,10,1):\n",
        "  if i == 9:\n",
        "    break\n",
        "  print(i)"
      ],
      "metadata": {
        "colab": {
          "base_uri": "https://localhost:8080/"
        },
        "id": "xzzWs9vndgXI",
        "outputId": "4f27cdfa-2dd9-4660-d56a-a386f29984b0"
      },
      "execution_count": null,
      "outputs": [
        {
          "output_type": "stream",
          "name": "stdout",
          "text": [
            "1\n",
            "2\n",
            "3\n",
            "4\n",
            "5\n",
            "6\n",
            "7\n",
            "8\n"
          ]
        }
      ]
    },
    {
      "cell_type": "code",
      "source": [
        "for i in range (1,10,1):\n",
        "  if i == 10:\n",
        "    break\n",
        "  print(i)"
      ],
      "metadata": {
        "colab": {
          "base_uri": "https://localhost:8080/"
        },
        "id": "mVqyXZpCdqDW",
        "outputId": "f68b4431-5d99-4dae-a8de-e0646b9b4263"
      },
      "execution_count": null,
      "outputs": [
        {
          "output_type": "stream",
          "name": "stdout",
          "text": [
            "1\n",
            "2\n",
            "3\n",
            "4\n",
            "5\n",
            "6\n",
            "7\n",
            "8\n",
            "9\n"
          ]
        }
      ]
    },
    {
      "cell_type": "code",
      "source": [
        "for i in range (1,10,1):\n",
        "  if i == 11:\n",
        "    break\n",
        "  print(i)"
      ],
      "metadata": {
        "colab": {
          "base_uri": "https://localhost:8080/"
        },
        "id": "rKJckO9ZdlyK",
        "outputId": "392e8b85-d78b-4970-e05d-f6721834cece"
      },
      "execution_count": null,
      "outputs": [
        {
          "output_type": "stream",
          "name": "stdout",
          "text": [
            "1\n",
            "2\n",
            "3\n",
            "4\n",
            "5\n",
            "6\n",
            "7\n",
            "8\n",
            "9\n"
          ]
        }
      ]
    },
    {
      "cell_type": "code",
      "source": [
        "for i in range (1,10,1):\n",
        "  if i == 12:\n",
        "    break\n",
        "  print(i)"
      ],
      "metadata": {
        "colab": {
          "base_uri": "https://localhost:8080/"
        },
        "id": "lWR8mk4-dtEg",
        "outputId": "7bbd6389-a658-4225-e0e9-898a135e00fd"
      },
      "execution_count": null,
      "outputs": [
        {
          "output_type": "stream",
          "name": "stdout",
          "text": [
            "1\n",
            "2\n",
            "3\n",
            "4\n",
            "5\n",
            "6\n",
            "7\n",
            "8\n",
            "9\n"
          ]
        }
      ]
    },
    {
      "cell_type": "code",
      "source": [
        "for i in range (1,10,1):\n",
        "  if i == 7:\n",
        "    continue\n",
        "  print(i)"
      ],
      "metadata": {
        "colab": {
          "base_uri": "https://localhost:8080/"
        },
        "id": "drGnV2tAdxBb",
        "outputId": "f6d754dc-659d-4ac6-82f5-20415078fc3e"
      },
      "execution_count": null,
      "outputs": [
        {
          "output_type": "stream",
          "name": "stdout",
          "text": [
            "1\n",
            "2\n",
            "3\n",
            "4\n",
            "5\n",
            "6\n",
            "8\n",
            "9\n"
          ]
        }
      ]
    },
    {
      "cell_type": "code",
      "source": [
        "for i in range (1,10,1):\n",
        "  if i == 2:\n",
        "    continue\n",
        "  print(i)"
      ],
      "metadata": {
        "colab": {
          "base_uri": "https://localhost:8080/"
        },
        "id": "i2KhXwIMe4OY",
        "outputId": "d8f75b97-f8cb-48ce-bda5-5dd7b090f313"
      },
      "execution_count": null,
      "outputs": [
        {
          "output_type": "stream",
          "name": "stdout",
          "text": [
            "1\n",
            "3\n",
            "4\n",
            "5\n",
            "6\n",
            "7\n",
            "8\n",
            "9\n"
          ]
        }
      ]
    },
    {
      "cell_type": "code",
      "source": [
        "for i in range (1,10,1):\n",
        "  if i == 1:\n",
        "    continue\n",
        "  print(i)"
      ],
      "metadata": {
        "colab": {
          "base_uri": "https://localhost:8080/"
        },
        "id": "b64BrqTAfBwC",
        "outputId": "0f76ce27-e1a0-4931-a2d6-e17b40b422df"
      },
      "execution_count": null,
      "outputs": [
        {
          "output_type": "stream",
          "name": "stdout",
          "text": [
            "2\n",
            "3\n",
            "4\n",
            "5\n",
            "6\n",
            "7\n",
            "8\n",
            "9\n"
          ]
        }
      ]
    },
    {
      "cell_type": "code",
      "source": [
        "list_ex = [\"MEW\", \"HALUM\", \"MEW\", \"HALUM\", \"SIDDY\", \"OLI\"]\n",
        "set_ex = set(list_ex)\n",
        "print(list_ex)\n",
        "print(set_ex)"
      ],
      "metadata": {
        "colab": {
          "base_uri": "https://localhost:8080/"
        },
        "id": "YGeleNdHfmMs",
        "outputId": "319d6e02-578d-4bd7-aa0b-6c36c88982bd"
      },
      "execution_count": null,
      "outputs": [
        {
          "output_type": "stream",
          "name": "stdout",
          "text": [
            "['MEW', 'HALUM', 'MEW', 'HALUM', 'SIDDY', 'OLI']\n",
            "{'HALUM', 'OLI', 'MEW', 'SIDDY'}\n"
          ]
        }
      ]
    },
    {
      "cell_type": "code",
      "source": [
        "list_ex = [\"MEW\", \"HALUM\", \"MEW\", \"HALUM\", \"SIDDY\", \"OLI\"]\n",
        "set_ex = set(list_ex)\n",
        "back = list(set_ex)\n",
        "print(list_ex)\n",
        "print(set_ex)\n",
        "print(back)\n",
        "print(type(list_ex))\n",
        "print(type(set_ex))\n",
        "print(type(back))"
      ],
      "metadata": {
        "colab": {
          "base_uri": "https://localhost:8080/"
        },
        "id": "soXiMACMgSfJ",
        "outputId": "166c1d8e-8a9a-4641-c7de-251edc8702fb"
      },
      "execution_count": null,
      "outputs": [
        {
          "output_type": "stream",
          "name": "stdout",
          "text": [
            "['MEW', 'HALUM', 'MEW', 'HALUM', 'SIDDY', 'OLI']\n",
            "{'HALUM', 'OLI', 'MEW', 'SIDDY'}\n",
            "['HALUM', 'OLI', 'MEW', 'SIDDY']\n",
            "<class 'list'>\n",
            "<class 'set'>\n",
            "<class 'list'>\n"
          ]
        }
      ]
    },
    {
      "cell_type": "code",
      "source": [
        "# Create a list of 10 names that are random and repeating. Identify the unique items annd their count.\n",
        "\n",
        "names = []\n",
        "for i in range(0,10,1):\n",
        "  name = input(\"Enter The Name:\")\n",
        "  name = name.strip()\n",
        "  name = name.upper()\n",
        "  names.append(name)\n",
        "print(names)"
      ],
      "metadata": {
        "colab": {
          "base_uri": "https://localhost:8080/"
        },
        "id": "D6L0kG4xhQnl",
        "outputId": "f5c1c642-4bac-4ed2-c6fe-ac646640d037"
      },
      "execution_count": null,
      "outputs": [
        {
          "output_type": "stream",
          "name": "stdout",
          "text": [
            "Enter The Name:SID\n",
            "Enter The Name:OLI\n",
            "Enter The Name:SID\n",
            "Enter The Name:SID\n",
            "Enter The Name:OLI\n",
            "Enter The Name:THOMAS\n",
            "Enter The Name:THOMAS\n",
            "Enter The Name:MEW\n",
            "Enter The Name:HALUM\n",
            "Enter The Name:MEW\n",
            "['SID', 'OLI', 'SID', 'SID', 'OLI', 'THOMAS', 'THOMAS', 'MEW', 'HALUM', 'MEW']\n"
          ]
        }
      ]
    },
    {
      "cell_type": "code",
      "source": [
        "unique_names = set(names)\n",
        "print(unique_names)"
      ],
      "metadata": {
        "colab": {
          "base_uri": "https://localhost:8080/"
        },
        "id": "eyJVV--lkmFz",
        "outputId": "a9b9ba7b-799e-4e3d-f148-bfe3efd5b08d"
      },
      "execution_count": null,
      "outputs": [
        {
          "output_type": "stream",
          "name": "stdout",
          "text": [
            "{'THOMAS', 'MEW', 'SID', 'HALUM', 'OLI'}\n"
          ]
        }
      ]
    },
    {
      "cell_type": "code",
      "source": [
        "unique_names = set(names)\n",
        "for search in unique_names:\n",
        "  search = \"MEW\"\n",
        "  for item in names:\n",
        "    if search == item:\n",
        "      print(\"Found\")"
      ],
      "metadata": {
        "colab": {
          "base_uri": "https://localhost:8080/"
        },
        "id": "TUsjK0Ookz62",
        "outputId": "43cb5e2e-e140-4307-bcb6-2a9a5433b725"
      },
      "execution_count": null,
      "outputs": [
        {
          "output_type": "stream",
          "name": "stdout",
          "text": [
            "Found\n",
            "Found\n",
            "Found\n",
            "Found\n",
            "Found\n",
            "Found\n",
            "Found\n",
            "Found\n",
            "Found\n",
            "Found\n"
          ]
        }
      ]
    },
    {
      "cell_type": "code",
      "source": [
        "for search in unique_names:\n",
        "  count = 0\n",
        "  for item in names:\n",
        "    if search == item:\n",
        "      count = count + 1\n",
        "  print(search,count)"
      ],
      "metadata": {
        "colab": {
          "base_uri": "https://localhost:8080/"
        },
        "id": "SgGGgaCnlVje",
        "outputId": "325d63b1-2ee0-45fb-b745-64a646fa345c"
      },
      "execution_count": null,
      "outputs": [
        {
          "output_type": "stream",
          "name": "stdout",
          "text": [
            "THOMAS 2\n",
            "MEW 2\n",
            "SID 3\n",
            "HALUM 1\n",
            "OLI 2\n"
          ]
        }
      ]
    },
    {
      "cell_type": "code",
      "source": [
        "my_dict = {\n",
        "    \"Name\": \"SIDDHARTHA SINHA\",\n",
        "    \"Phone No\": 8582873442,\n",
        "    \"Email ID\": \"siddhartha.sinha@msds.christuniversity.in\",\n",
        "}\n",
        "print(my_dict[\"Name\"])"
      ],
      "metadata": {
        "colab": {
          "base_uri": "https://localhost:8080/"
        },
        "id": "bWMkmBLDpqKi",
        "outputId": "2ad41af2-e855-48f6-ce23-b86626ad63e0"
      },
      "execution_count": null,
      "outputs": [
        {
          "output_type": "stream",
          "name": "stdout",
          "text": [
            "SIDDHARTHA SINHA\n"
          ]
        }
      ]
    },
    {
      "cell_type": "code",
      "source": [
        "my_dict = {\n",
        "    \"Name\": \"SIDDHARTHA SINHA\",\n",
        "    \"Phone No\": 8582873442,\n",
        "    \"Email ID\": \"siddhartha.sinha@msds.christuniversity.in\",\n",
        "}\n",
        "print(my_dict[\"Phone No\"])"
      ],
      "metadata": {
        "colab": {
          "base_uri": "https://localhost:8080/"
        },
        "id": "ks2nxXI04nB7",
        "outputId": "a49790bc-e294-4baa-f192-50de11422eca"
      },
      "execution_count": null,
      "outputs": [
        {
          "output_type": "stream",
          "name": "stdout",
          "text": [
            "8582873442\n"
          ]
        }
      ]
    },
    {
      "cell_type": "code",
      "source": [
        "my_dict[\"Address\"] = \"CHRIST RESIDENCE\"\n",
        "print(my_dict)"
      ],
      "metadata": {
        "colab": {
          "base_uri": "https://localhost:8080/"
        },
        "id": "QtXZgne049MM",
        "outputId": "a500cc5d-7741-4095-bdc5-7a1c4bbedba3"
      },
      "execution_count": null,
      "outputs": [
        {
          "output_type": "stream",
          "name": "stdout",
          "text": [
            "{'Name': 'SIDDHARTHA SINHA', 'Phone No': 8582873442, 'Email ID': 'siddhartha.sinha@msds.christuniversity.in', 'Address': 'CHRIST RESIDENCE'}\n"
          ]
        }
      ]
    },
    {
      "cell_type": "code",
      "source": [
        "print(my_dict[\"akdum-bakdum\"])"
      ],
      "metadata": {
        "colab": {
          "base_uri": "https://localhost:8080/",
          "height": 176
        },
        "id": "iXUDwtXw5G28",
        "outputId": "e0ca20fa-3316-488a-e225-d98a55651c03"
      },
      "execution_count": null,
      "outputs": [
        {
          "output_type": "error",
          "ename": "KeyError",
          "evalue": "ignored",
          "traceback": [
            "\u001b[0;31m---------------------------------------------------------------------------\u001b[0m",
            "\u001b[0;31mKeyError\u001b[0m                                  Traceback (most recent call last)",
            "\u001b[0;32m<ipython-input-7-a31ff9e9ee2f>\u001b[0m in \u001b[0;36m<cell line: 1>\u001b[0;34m()\u001b[0m\n\u001b[0;32m----> 1\u001b[0;31m \u001b[0mprint\u001b[0m\u001b[0;34m(\u001b[0m\u001b[0mmy_dict\u001b[0m\u001b[0;34m[\u001b[0m\u001b[0;34m\"akdum-bakdum\"\u001b[0m\u001b[0;34m]\u001b[0m\u001b[0;34m)\u001b[0m\u001b[0;34m\u001b[0m\u001b[0;34m\u001b[0m\u001b[0m\n\u001b[0m",
            "\u001b[0;31mKeyError\u001b[0m: 'akdum-bakdum'"
          ]
        }
      ]
    },
    {
      "cell_type": "code",
      "source": [
        "my_dict.keys()"
      ],
      "metadata": {
        "colab": {
          "base_uri": "https://localhost:8080/"
        },
        "id": "WsHxbtME5eWM",
        "outputId": "b09457ac-d5c6-4ac3-d8de-26faa54fce59"
      },
      "execution_count": null,
      "outputs": [
        {
          "output_type": "execute_result",
          "data": {
            "text/plain": [
              "dict_keys(['Name', 'Phone No', 'Email ID', 'Address'])"
            ]
          },
          "metadata": {},
          "execution_count": 21
        }
      ]
    },
    {
      "cell_type": "code",
      "source": [
        "print(my_dict.keys())\n",
        "for key in my_dict.keys():\n",
        "  print(key)"
      ],
      "metadata": {
        "colab": {
          "base_uri": "https://localhost:8080/"
        },
        "id": "HwhAFOrs5lel",
        "outputId": "75b9a389-3f31-4529-bbbf-e90e808a247a"
      },
      "execution_count": null,
      "outputs": [
        {
          "output_type": "stream",
          "name": "stdout",
          "text": [
            "dict_keys(['Name', 'Phone No', 'Email ID', 'Address'])\n",
            "Name\n",
            "Phone No\n",
            "Email ID\n",
            "Address\n"
          ]
        }
      ]
    },
    {
      "cell_type": "code",
      "source": [
        "my_dict.values()"
      ],
      "metadata": {
        "colab": {
          "base_uri": "https://localhost:8080/"
        },
        "id": "CMBA88gz6j2D",
        "outputId": "f971d72b-99eb-4c12-a68f-72f78f0bb97b"
      },
      "execution_count": null,
      "outputs": [
        {
          "output_type": "execute_result",
          "data": {
            "text/plain": [
              "dict_values(['SIDDHARTHA SINHA', 8582873442, 'siddhartha.sinha@msds.christuniversity.in', 'CHRIST RESIDENCE'])"
            ]
          },
          "metadata": {},
          "execution_count": 23
        }
      ]
    },
    {
      "cell_type": "code",
      "source": [
        "students = {\n",
        "    \"Names\": [\"Mew\", \"Halum\", \"Oli\"],\n",
        "    \"Roll No\": [1, 2, 3],\n",
        "}\n",
        "for Names in students[\"Names\"]:\n",
        "  print(Names)"
      ],
      "metadata": {
        "colab": {
          "base_uri": "https://localhost:8080/"
        },
        "id": "J14DL7m763eQ",
        "outputId": "84870d72-028d-4541-d860-a52e11d02b36"
      },
      "execution_count": null,
      "outputs": [
        {
          "output_type": "stream",
          "name": "stdout",
          "text": [
            "Mew\n",
            "Halum\n",
            "Oli\n"
          ]
        }
      ]
    },
    {
      "cell_type": "code",
      "source": [
        "students = {\n",
        "    \"Names\": [\"Mew\", \"Halum\", \"Oli\"],\n",
        "    \"Roll No\": [1, 2, 3],\n",
        "}\n",
        "print(students[\"Names\"][0])"
      ],
      "metadata": {
        "colab": {
          "base_uri": "https://localhost:8080/"
        },
        "id": "9qRcCrFh8We2",
        "outputId": "4d4af4c2-44f2-4a05-e54c-88e208f4c5fc"
      },
      "execution_count": null,
      "outputs": [
        {
          "output_type": "stream",
          "name": "stdout",
          "text": [
            "Mew\n"
          ]
        }
      ]
    },
    {
      "cell_type": "code",
      "source": [
        "students = {\n",
        "    \"Names\": [\"Mew\", \"Halum\", \"Oli\"],\n",
        "    \"Roll No\": [1, 2, 3],\n",
        "}\n",
        "print(students[\"Names\"][1])"
      ],
      "metadata": {
        "colab": {
          "base_uri": "https://localhost:8080/"
        },
        "id": "9nEVADb08N-i",
        "outputId": "247630b5-8794-4191-bf83-8ff004db34eb"
      },
      "execution_count": null,
      "outputs": [
        {
          "output_type": "stream",
          "name": "stdout",
          "text": [
            "Halum\n"
          ]
        }
      ]
    },
    {
      "cell_type": "code",
      "source": [
        "students = {\n",
        "    \"Names\": [\"Mew\", \"Halum\", \"Oli\"],\n",
        "    \"Roll No\": [1, 2, 3],\n",
        "}\n",
        "print(students[\"Names\"][2])"
      ],
      "metadata": {
        "colab": {
          "base_uri": "https://localhost:8080/"
        },
        "id": "TakGa6Mq7wBt",
        "outputId": "d31e3191-b1be-4519-864d-e7dce1a0b365"
      },
      "execution_count": null,
      "outputs": [
        {
          "output_type": "stream",
          "name": "stdout",
          "text": [
            "Oli\n"
          ]
        }
      ]
    },
    {
      "cell_type": "code",
      "source": [
        "students = {\n",
        "    \"Names\": [\"Mew\", \"Halum\", \"Oli\"],\n",
        "    \"Roll No\": [1, 2, 3],\n",
        "}\n",
        "print(students[\"Names\"][3])"
      ],
      "metadata": {
        "colab": {
          "base_uri": "https://localhost:8080/",
          "height": 210
        },
        "id": "S_UhmbFI8RUq",
        "outputId": "53fa8899-e87d-458a-c2fe-7f658d553b74"
      },
      "execution_count": null,
      "outputs": [
        {
          "output_type": "error",
          "ename": "IndexError",
          "evalue": "ignored",
          "traceback": [
            "\u001b[0;31m---------------------------------------------------------------------------\u001b[0m",
            "\u001b[0;31mIndexError\u001b[0m                                Traceback (most recent call last)",
            "\u001b[0;32m<ipython-input-34-5732bb656c64>\u001b[0m in \u001b[0;36m<cell line: 5>\u001b[0;34m()\u001b[0m\n\u001b[1;32m      3\u001b[0m     \u001b[0;34m\"Roll No\"\u001b[0m\u001b[0;34m:\u001b[0m \u001b[0;34m[\u001b[0m\u001b[0;36m1\u001b[0m\u001b[0;34m,\u001b[0m \u001b[0;36m2\u001b[0m\u001b[0;34m,\u001b[0m \u001b[0;36m3\u001b[0m\u001b[0;34m]\u001b[0m\u001b[0;34m,\u001b[0m\u001b[0;34m\u001b[0m\u001b[0;34m\u001b[0m\u001b[0m\n\u001b[1;32m      4\u001b[0m }\n\u001b[0;32m----> 5\u001b[0;31m \u001b[0mprint\u001b[0m\u001b[0;34m(\u001b[0m\u001b[0mstudents\u001b[0m\u001b[0;34m[\u001b[0m\u001b[0;34m\"Names\"\u001b[0m\u001b[0;34m]\u001b[0m\u001b[0;34m[\u001b[0m\u001b[0;36m3\u001b[0m\u001b[0;34m]\u001b[0m\u001b[0;34m)\u001b[0m\u001b[0;34m\u001b[0m\u001b[0;34m\u001b[0m\u001b[0m\n\u001b[0m",
            "\u001b[0;31mIndexError\u001b[0m: list index out of range"
          ]
        }
      ]
    },
    {
      "cell_type": "code",
      "source": [
        "MScDSB = [\n",
        "    {\n",
        "        \"Name\": \"Debolina Chatterjee\",\n",
        "        \"Roll\": 1,\n",
        "        \"Email ID\": \"debolina.chatterjee@msds.christuniversity.in\",\n",
        "        \"Phone\": 8945513808\n",
        "    },\n",
        "    {\n",
        "        \"Name\": \"Siddhartha Sinha\",\n",
        "        \"Roll\": 2,\n",
        "        \"Email ID\": \"siddhartha.sinha@msds.christuniversity.in\",\n",
        "        \"Phone\": 8582873442\n",
        "    },\n",
        "    {\n",
        "        \"Name\": \"Halum Mew            \",\n",
        "        \"Roll\": 3,\n",
        "        \"Email ID\": \"halum.mew@msds.christuniversity.in            \",\n",
        "        \"Phone\": 7894561230\n",
        "    }\n",
        "]\n",
        "for student in MScDSB:\n",
        "  for key in student.keys():\n",
        "    print(student[key], end = \"\\t\")\n",
        "  print()"
      ],
      "metadata": {
        "colab": {
          "base_uri": "https://localhost:8080/"
        },
        "id": "wm2jlor48bhA",
        "outputId": "a84e61e1-64dd-4b7d-b25e-dc88f539937f"
      },
      "execution_count": null,
      "outputs": [
        {
          "output_type": "stream",
          "name": "stdout",
          "text": [
            "Debolina Chatterjee\t1\tdebolina.chatterjee@msds.christuniversity.in\t8945513808\t\n",
            "Siddhartha Sinha\t2\tsiddhartha.sinha@msds.christuniversity.in\t8582873442\t\n",
            "Halum Mew            \t3\thalum.mew@msds.christuniversity.in            \t7894561230\t\n"
          ]
        }
      ]
    },
    {
      "cell_type": "code",
      "source": [
        "MScDSB = [\n",
        "    {\n",
        "        \"Name\": \"Debolina Chatterjee\",\n",
        "        \"Roll\": 1,\n",
        "        \"Email ID\": \"debolina.chatterjee@msds.christuniversity.in\",\n",
        "        \"Phone\": 8945513808\n",
        "    },\n",
        "    {\n",
        "        \"Name\": \"Siddhartha Sinha\",\n",
        "        \"Roll\": 2,\n",
        "        \"Email ID\": \"siddhartha.sinha@msds.christuniversity.in\",\n",
        "        \"Phone\": 8582873442\n",
        "    },\n",
        "    {\n",
        "        \"Name\": \"Halum Mew            \",\n",
        "        \"Roll\": 3,\n",
        "        \"Email ID\": \"halum.mew@msds.christuniversity.in            \",\n",
        "        \"Phone\": 7894561230\n",
        "    }\n",
        "]\n",
        "for student in MScDSB:\n",
        "  print(student)\n",
        "  for key in student.keys():\n",
        "    print(student[key], end = \"\\t\")\n",
        "  print()"
      ],
      "metadata": {
        "colab": {
          "base_uri": "https://localhost:8080/"
        },
        "id": "l-rSq8NS_Y5L",
        "outputId": "4492f75a-afb2-48b7-80db-3ea9afd26b53"
      },
      "execution_count": null,
      "outputs": [
        {
          "output_type": "stream",
          "name": "stdout",
          "text": [
            "{'Name': 'Debolina Chatterjee', 'Roll': 1, 'Email ID': 'debolina.chatterjee@msds.christuniversity.in', 'Phone': 8945513808}\n",
            "Debolina Chatterjee\t1\tdebolina.chatterjee@msds.christuniversity.in\t8945513808\t\n",
            "{'Name': 'Siddhartha Sinha', 'Roll': 2, 'Email ID': 'siddhartha.sinha@msds.christuniversity.in', 'Phone': 8582873442}\n",
            "Siddhartha Sinha\t2\tsiddhartha.sinha@msds.christuniversity.in\t8582873442\t\n",
            "{'Name': 'Halum Mew            ', 'Roll': 3, 'Email ID': 'halum.mew@msds.christuniversity.in            ', 'Phone': 7894561230}\n",
            "Halum Mew            \t3\thalum.mew@msds.christuniversity.in            \t7894561230\t\n"
          ]
        }
      ]
    },
    {
      "cell_type": "code",
      "source": [
        "import numpy"
      ],
      "metadata": {
        "id": "2EY4TFmX_ufW"
      },
      "execution_count": null,
      "outputs": []
    },
    {
      "cell_type": "code",
      "source": [
        "numpy.ones(100)"
      ],
      "metadata": {
        "colab": {
          "base_uri": "https://localhost:8080/"
        },
        "id": "-wwuLi_z8Qqw",
        "outputId": "0acf4e26-7804-4561-a3a4-4a8742c3d42c"
      },
      "execution_count": null,
      "outputs": [
        {
          "output_type": "execute_result",
          "data": {
            "text/plain": [
              "array([1., 1., 1., 1., 1., 1., 1., 1., 1., 1., 1., 1., 1., 1., 1., 1., 1.,\n",
              "       1., 1., 1., 1., 1., 1., 1., 1., 1., 1., 1., 1., 1., 1., 1., 1., 1.,\n",
              "       1., 1., 1., 1., 1., 1., 1., 1., 1., 1., 1., 1., 1., 1., 1., 1., 1.,\n",
              "       1., 1., 1., 1., 1., 1., 1., 1., 1., 1., 1., 1., 1., 1., 1., 1., 1.,\n",
              "       1., 1., 1., 1., 1., 1., 1., 1., 1., 1., 1., 1., 1., 1., 1., 1., 1.,\n",
              "       1., 1., 1., 1., 1., 1., 1., 1., 1., 1., 1., 1., 1., 1., 1.])"
            ]
          },
          "metadata": {},
          "execution_count": 5
        }
      ]
    },
    {
      "cell_type": "code",
      "source": [
        "import numpy as np"
      ],
      "metadata": {
        "id": "Y1B6H4dU8_74"
      },
      "execution_count": null,
      "outputs": []
    },
    {
      "cell_type": "code",
      "source": [
        "np.ones(20)"
      ],
      "metadata": {
        "colab": {
          "base_uri": "https://localhost:8080/"
        },
        "id": "bd5AOpn29EIE",
        "outputId": "50dc0da6-9b6d-4dee-8f53-592ec9060501"
      },
      "execution_count": null,
      "outputs": [
        {
          "output_type": "execute_result",
          "data": {
            "text/plain": [
              "array([1., 1., 1., 1., 1., 1., 1., 1., 1., 1., 1., 1., 1., 1., 1., 1., 1.,\n",
              "       1., 1., 1.])"
            ]
          },
          "metadata": {},
          "execution_count": 8
        }
      ]
    },
    {
      "cell_type": "code",
      "source": [
        "np.ones(100,dtype=int)"
      ],
      "metadata": {
        "colab": {
          "base_uri": "https://localhost:8080/"
        },
        "id": "K8VkJucj9PL1",
        "outputId": "2905c0b5-52ab-4aaa-afea-64e8cb6239d6"
      },
      "execution_count": null,
      "outputs": [
        {
          "output_type": "execute_result",
          "data": {
            "text/plain": [
              "array([1, 1, 1, 1, 1, 1, 1, 1, 1, 1, 1, 1, 1, 1, 1, 1, 1, 1, 1, 1, 1, 1,\n",
              "       1, 1, 1, 1, 1, 1, 1, 1, 1, 1, 1, 1, 1, 1, 1, 1, 1, 1, 1, 1, 1, 1,\n",
              "       1, 1, 1, 1, 1, 1, 1, 1, 1, 1, 1, 1, 1, 1, 1, 1, 1, 1, 1, 1, 1, 1,\n",
              "       1, 1, 1, 1, 1, 1, 1, 1, 1, 1, 1, 1, 1, 1, 1, 1, 1, 1, 1, 1, 1, 1,\n",
              "       1, 1, 1, 1, 1, 1, 1, 1, 1, 1, 1, 1])"
            ]
          },
          "metadata": {},
          "execution_count": 9
        }
      ]
    },
    {
      "cell_type": "code",
      "source": [
        "np.ones(100,dtype=float)"
      ],
      "metadata": {
        "colab": {
          "base_uri": "https://localhost:8080/"
        },
        "id": "mUG95CWd9zyQ",
        "outputId": "85ea7143-9fe8-4a44-b5cf-8fcdcf4f641a"
      },
      "execution_count": null,
      "outputs": [
        {
          "output_type": "execute_result",
          "data": {
            "text/plain": [
              "array([1., 1., 1., 1., 1., 1., 1., 1., 1., 1., 1., 1., 1., 1., 1., 1., 1.,\n",
              "       1., 1., 1., 1., 1., 1., 1., 1., 1., 1., 1., 1., 1., 1., 1., 1., 1.,\n",
              "       1., 1., 1., 1., 1., 1., 1., 1., 1., 1., 1., 1., 1., 1., 1., 1., 1.,\n",
              "       1., 1., 1., 1., 1., 1., 1., 1., 1., 1., 1., 1., 1., 1., 1., 1., 1.,\n",
              "       1., 1., 1., 1., 1., 1., 1., 1., 1., 1., 1., 1., 1., 1., 1., 1., 1.,\n",
              "       1., 1., 1., 1., 1., 1., 1., 1., 1., 1., 1., 1., 1., 1., 1.])"
            ]
          },
          "metadata": {},
          "execution_count": 14
        }
      ]
    },
    {
      "cell_type": "code",
      "source": [
        "np.ones(\"Hundred\",dtype=str)"
      ],
      "metadata": {
        "colab": {
          "base_uri": "https://localhost:8080/",
          "height": 297
        },
        "id": "i6czgYQz9Y_V",
        "outputId": "0bc536d4-0ad2-4a7a-954b-e3936e6b5a34"
      },
      "execution_count": null,
      "outputs": [
        {
          "output_type": "error",
          "ename": "TypeError",
          "evalue": "ignored",
          "traceback": [
            "\u001b[0;31m---------------------------------------------------------------------------\u001b[0m",
            "\u001b[0;31mTypeError\u001b[0m                                 Traceback (most recent call last)",
            "\u001b[0;32m<ipython-input-11-e24ce3e760b4>\u001b[0m in \u001b[0;36m<cell line: 1>\u001b[0;34m()\u001b[0m\n\u001b[0;32m----> 1\u001b[0;31m \u001b[0mnp\u001b[0m\u001b[0;34m.\u001b[0m\u001b[0mones\u001b[0m\u001b[0;34m(\u001b[0m\u001b[0;34m\"Hundred\"\u001b[0m\u001b[0;34m,\u001b[0m\u001b[0mdtype\u001b[0m\u001b[0;34m=\u001b[0m\u001b[0mstr\u001b[0m\u001b[0;34m)\u001b[0m\u001b[0;34m\u001b[0m\u001b[0;34m\u001b[0m\u001b[0m\n\u001b[0m",
            "\u001b[0;32m/usr/local/lib/python3.10/dist-packages/numpy/core/numeric.py\u001b[0m in \u001b[0;36mones\u001b[0;34m(shape, dtype, order, like)\u001b[0m\n\u001b[1;32m    202\u001b[0m         \u001b[0;32mreturn\u001b[0m \u001b[0m_ones_with_like\u001b[0m\u001b[0;34m(\u001b[0m\u001b[0mshape\u001b[0m\u001b[0;34m,\u001b[0m \u001b[0mdtype\u001b[0m\u001b[0;34m=\u001b[0m\u001b[0mdtype\u001b[0m\u001b[0;34m,\u001b[0m \u001b[0morder\u001b[0m\u001b[0;34m=\u001b[0m\u001b[0morder\u001b[0m\u001b[0;34m,\u001b[0m \u001b[0mlike\u001b[0m\u001b[0;34m=\u001b[0m\u001b[0mlike\u001b[0m\u001b[0;34m)\u001b[0m\u001b[0;34m\u001b[0m\u001b[0;34m\u001b[0m\u001b[0m\n\u001b[1;32m    203\u001b[0m \u001b[0;34m\u001b[0m\u001b[0m\n\u001b[0;32m--> 204\u001b[0;31m     \u001b[0ma\u001b[0m \u001b[0;34m=\u001b[0m \u001b[0mempty\u001b[0m\u001b[0;34m(\u001b[0m\u001b[0mshape\u001b[0m\u001b[0;34m,\u001b[0m \u001b[0mdtype\u001b[0m\u001b[0;34m,\u001b[0m \u001b[0morder\u001b[0m\u001b[0;34m)\u001b[0m\u001b[0;34m\u001b[0m\u001b[0;34m\u001b[0m\u001b[0m\n\u001b[0m\u001b[1;32m    205\u001b[0m     \u001b[0mmultiarray\u001b[0m\u001b[0;34m.\u001b[0m\u001b[0mcopyto\u001b[0m\u001b[0;34m(\u001b[0m\u001b[0ma\u001b[0m\u001b[0;34m,\u001b[0m \u001b[0;36m1\u001b[0m\u001b[0;34m,\u001b[0m \u001b[0mcasting\u001b[0m\u001b[0;34m=\u001b[0m\u001b[0;34m'unsafe'\u001b[0m\u001b[0;34m)\u001b[0m\u001b[0;34m\u001b[0m\u001b[0;34m\u001b[0m\u001b[0m\n\u001b[1;32m    206\u001b[0m     \u001b[0;32mreturn\u001b[0m \u001b[0ma\u001b[0m\u001b[0;34m\u001b[0m\u001b[0;34m\u001b[0m\u001b[0m\n",
            "\u001b[0;31mTypeError\u001b[0m: 'str' object cannot be interpreted as an integer"
          ]
        }
      ]
    },
    {
      "cell_type": "markdown",
      "source": [
        "1) LOAD A CSV AND SET A NEW COLOUMN NAMES.\n",
        "2) RENAME COLOUMN NAME ( ONE COLOUMN, MULTIPLE COLOUMN)\n",
        "3) LOAD A DATASET AND SET ONE COLOUMN AS INDEX COLOUMN\n",
        "4) SPLIT YOUR DATA INTO MULTIPLE FILES WITH REPEAT TO ROWS AND COLOUMNS. LOAD THE DIFFERENT FILES . AND MERGE THEM TO THE FINAL FILE(MERGE AND JOIN)"
      ],
      "metadata": {
        "id": "JBNYqrcUNBAz"
      }
    },
    {
      "cell_type": "code",
      "source": [
        "import pandas as pd"
      ],
      "metadata": {
        "id": "ZWHm2OHONEg4"
      },
      "execution_count": null,
      "outputs": []
    },
    {
      "cell_type": "markdown",
      "source": [
        "Write a python program with the following specification.\n",
        "There will be a function name with create_dataset which will take a dictionary, filename, no. of rows as arguments.\n",
        "The dictionary is having the following structure:\n",
        "{\n",
        "  \"column\" [domain & value]\n",
        "  \"\n",
        "  \"\n",
        "}\n",
        "Your function will select random values for each of the domains and create a row for you. The number of rows that has to be created is the parameter that has been taken. Save the file with the required number of rows. Load this dataset using pandas and display basic details.\n"
      ],
      "metadata": {
        "id": "gKb2H61dUxoh"
      }
    },
    {
      "cell_type": "code",
      "source": [],
      "metadata": {
        "id": "fDBfRggcYL-o"
      },
      "execution_count": null,
      "outputs": []
    }
  ]
}