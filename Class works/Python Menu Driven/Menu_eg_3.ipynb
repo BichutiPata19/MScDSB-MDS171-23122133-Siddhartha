{
 "cells": [
  {
   "cell_type": "code",
   "execution_count": 17,
   "metadata": {},
   "outputs": [],
   "source": [
    "\"\"\"\n",
    "restaurant\n",
    "customers -> orders (Menu Items)\n",
    "collecting orders\n",
    "billing\n",
    "print bill\n",
    "update order\n",
    "search for an order\n",
    "\"\"\"\n",
    "import random \n",
    "\n",
    "class restaurant:\n",
    "    def __init__ (self):\n",
    "        self.menu = {\n",
    "            \"Rice\": 30,\n",
    "            \"Dal Fry\": 20\n",
    "        }\n",
    "\n",
    "        # OrderID : (set of order details)\n",
    "        self.order = {}\n",
    "    \n",
    "    def printMenu(self):\n",
    "        print(\"The current options in the menu are:\")\n",
    "        print(\"*\"*30)\n",
    "        print(self.menu)\n",
    "        print(\"*\"*30)\n",
    "\n",
    "    def generateOrderId(self):\n",
    "        orderid = \"\"\n",
    "        for i in range(1,6,1):\n",
    "            orderid += str(random.randint(1,10))\n",
    "        return orderid\n",
    "\n",
    "    def collectOrder(self):\n",
    "        \"\"\"\n",
    "        print menu\n",
    "        ask user to enter the value\n",
    "        collect the value and update the order\n",
    "        print the order\n",
    "        \"\"\"\n",
    "        self.printMenu() # print menu\n",
    "        phone = input(\"Enter customer phone number:\")\n",
    "        order = {}\n",
    "        while True:\n",
    "            item = input(\"Enter the item you want to order:\").strip().title()\n",
    "            qty = int(input(\"Enter the quantity of the item:\"))\n",
    "            order[item] = qty\n",
    "            choice = input(\"Do you want to complete the order? 'YES'\").strip().upper()\n",
    "            if choice == \"YES\":\n",
    "                break\n",
    "        orderid = self.generateOrderId()\n",
    "        self.order[orderid] = {\n",
    "            \"Phone\": phone,\n",
    "            \"Order\": order\n",
    "        }\n",
    "        print(self.order)"
   ]
  },
  {
   "cell_type": "code",
   "execution_count": 18,
   "metadata": {},
   "outputs": [],
   "source": [
    "cftb = restaurant()"
   ]
  },
  {
   "cell_type": "code",
   "execution_count": 19,
   "metadata": {},
   "outputs": [
    {
     "name": "stdout",
     "output_type": "stream",
     "text": [
      "The current options in the menu are:\n",
      "******************************\n",
      "{'Rice': 30, 'Dal Fry': 20}\n",
      "******************************\n",
      "{'87779': {'Phone': '8582873442', 'Order': {'Rice': 2}}}\n"
     ]
    }
   ],
   "source": [
    "cftb.collectOrder()"
   ]
  }
 ],
 "metadata": {
  "kernelspec": {
   "display_name": "Python 3",
   "language": "python",
   "name": "python3"
  },
  "language_info": {
   "codemirror_mode": {
    "name": "ipython",
    "version": 3
   },
   "file_extension": ".py",
   "mimetype": "text/x-python",
   "name": "python",
   "nbconvert_exporter": "python",
   "pygments_lexer": "ipython3",
   "version": "3.11.4"
  }
 },
 "nbformat": 4,
 "nbformat_minor": 2
}
