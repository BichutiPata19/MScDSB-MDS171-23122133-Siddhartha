{
 "cells": [
  {
   "cell_type": "markdown",
   "metadata": {},
   "source": [
    "Create a sport-mart class where you will have inventory/shelf of items, and order of customers. Create a csv file which will store your inventory details and order details. With the help of file handling techniques in python read the files and create an object for TRINITY STORE and populate the inventory items and orders for the TRINITY STORE objects. To make sure thatyou have added all the items in your file use a display method to show your inventory and order history."
   ]
  },
  {
   "cell_type": "code",
   "execution_count": 23,
   "metadata": {},
   "outputs": [
    {
     "name": "stdout",
     "output_type": "stream",
     "text": [
      "{'OD001': {'OrderID': 'OD001', 'Item Name': ' PID001', 'Quantity': ' 10', 'Price': ' 1000', 'Total': ' 10000'}, 'OD002': {'OrderID': 'OD002', 'Item Name': ' PID002', 'Quantity': ' 10', 'Price': ' 150', 'Total': ' 1500'}, 'OD003': {'OrderID': 'OD003', 'Item Name': 'PID004', 'Quantity': '8', 'Price': '1500', 'Total': '12000'}, 'OD004': {'OrderID': 'OD004', 'Item Name': 'PID005', 'Quantity': '6', 'Price': '1500', 'Total': '9000'}, 'OD005': {'OrderID': 'OD005', 'Item Name': 'PID004', 'Quantity': '8', 'Price': '1500', 'Total': '12000'}, 'OD006': {'OrderID': 'OD006', 'Item Name': 'PID001', 'Quantity': '10', 'Price': '1000', 'Total': '10000'}, 'OD007': {'OrderID': 'OD007', 'Item Name': 'PID005', 'Quantity': '1', 'Price': '1500', 'Total': '1500'}, 'OD008': {'OrderID': 'OD008', 'Item Name': 'PID003', 'Quantity': '5', 'Price': '2000', 'Total': '10000'}, 'OD009': {'OrderID': 'OD009', 'Item Name': 'PID004', 'Quantity': '2', 'Price': '1500', 'Total': '3000'}, 'OD010': {'OrderID': 'OD010', 'Item Name': 'PID002', 'Quantity': '3', 'Price': '150', 'Total': '450'}, '': {'OrderID': '', 'Item Name': ' ', 'Quantity': ' ', 'Price': ' ', 'Total': ''}}\n",
      "['PID001', 'BAT', '1000', '1000']\n",
      "['PID002', 'BALL', '1500', '150']\n",
      "['PID003', 'RACKET', '2000', '2000']\n",
      "['PID004', 'FOOTBALL', '2000', '1500']\n",
      "['PID005', 'BASKETBALL', '1500', '1500']\n",
      "{'PID001': {'ProductID': 'PID001', 'ProductName': 'BAT', 'Quantity': '1000'}, 'PID002': {'ProductID': 'PID002', 'ProductName': 'BALL', 'Quantity': '1500'}, 'PID003': {'ProductID': 'PID003', 'ProductName': 'RACKET', 'Quantity': '2000'}, 'PID004': {'ProductID': 'PID004', 'ProductName': 'FOOTBALL', 'Quantity': '2000'}, 'PID005': {'ProductID': 'PID005', 'ProductName': 'BASKETBALL', 'Quantity': '1500'}}\n"
     ]
    }
   ],
   "source": [
    "class sportmart:\n",
    "    def __init__ (self):\n",
    "        self.inventory = {}\n",
    "        self.orders = {}\n",
    "\n",
    "    def createOrder(self, OrderID, ItemName, Quantity, Price, Total):\n",
    "        temp = {\n",
    "            \"OrderID\": OrderID,\n",
    "            \"Item Name\": ItemName,\n",
    "            \"Quantity\": Quantity,\n",
    "            \"Price\": Price,\n",
    "            \"Total\": Total\n",
    "        }\n",
    "\n",
    "        self.orders[OrderID] = temp\n",
    "\n",
    "    def createInventoryItem(self, ProductID, ProductName, Quantity):\n",
    "        temp = {\n",
    "            \"ProductID\": ProductID,\n",
    "            \"ProductName\": ProductName,\n",
    "            \"Quantity\": Quantity\n",
    "        }\n",
    "\n",
    "        self.inventory[ProductID] = temp\n",
    "\n",
    "    def printOrders(self):\n",
    "        print(self.orders)\n",
    "\n",
    "    def printInventory(self):\n",
    "        print(self.inventory)\n",
    "\n",
    "trinity = sportmart()\n",
    "orders = open(\"MyThirdClass(ORDER_SHEET).csv\", \"r\")\n",
    "orders_header = orders.readline()\n",
    "orders_orders = orders.readlines()\n",
    "for item in orders_orders:\n",
    "    temp = item.strip().split(\",\")\n",
    "    trinity.createOrder(temp[0], temp[1], temp[2], temp[3], temp[4])\n",
    "\n",
    "trinity.printOrders()\n",
    "\n",
    "trinity = sportmart()\n",
    "inventories = open(\"MyThirdClass(INVENTORY_SHEET).csv\", \"r\")\n",
    "inventories_header = inventories.readline()\n",
    "inventories_products = inventories.readlines()\n",
    "for item in inventories_products:\n",
    "    temp = item.strip().split(\",\")\n",
    "    print(temp)\n",
    "    trinity.createInventoryItem(temp[0], temp[1], temp[2])\n",
    "\n",
    "trinity.printInventory()"
   ]
  },
  {
   "cell_type": "markdown",
   "metadata": {},
   "source": [
    "Create a menu driven program that will create new orders ad update the inventory accordingly. Export the final data to the file."
   ]
  },
  {
   "cell_type": "code",
   "execution_count": 20,
   "metadata": {},
   "outputs": [
    {
     "name": "stdout",
     "output_type": "stream",
     "text": [
      "10000\n",
      "ORDER ADDED SUCCESSFULLY!!\n"
     ]
    }
   ],
   "source": [
    "def add_orders():\n",
    "    orders = open(\"MyThirdClass(ORDER_SHEET).csv\", \"a\")\n",
    "    order_id = input(\"Enter the Order ID: \")\n",
    "    item_name = input(\"Enter the Item Name: \")\n",
    "    quantity = int(input(\"Enter the Quantity: \"))\n",
    "    price = int(input(\"Enter the Price: \"))\n",
    "    total = quantity*price\n",
    "    print(total)\n",
    "    orders.write(f\"{order_id}, {item_name}, {quantity}, {price}, {total}\\n\")\n",
    "    orders.close()\n",
    "    print(\"ORDER ADDED SUCCESSFULLY!!\")\n",
    "\n",
    "while True:\n",
    "        add_orders()\n",
    "        another = (\"Do You Want To Add Another Order? (yes/no): \")\n",
    "        if another.lower() != \"yes\":\n",
    "              break"
   ]
  }
 ],
 "metadata": {
  "kernelspec": {
   "display_name": "Python 3",
   "language": "python",
   "name": "python3"
  },
  "language_info": {
   "codemirror_mode": {
    "name": "ipython",
    "version": 3
   },
   "file_extension": ".py",
   "mimetype": "text/x-python",
   "name": "python",
   "nbconvert_exporter": "python",
   "pygments_lexer": "ipython3",
   "version": "3.11.4"
  }
 },
 "nbformat": 4,
 "nbformat_minor": 2
}
